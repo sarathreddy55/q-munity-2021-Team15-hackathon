{
 "cells": [
  {
   "cell_type": "code",
   "execution_count": 1,
   "id": "885970ff",
   "metadata": {},
   "outputs": [],
   "source": [
    "###Enabling automatic reloading of modules when they change!\n",
    "%load_ext autoreload\n",
    "%autoreload "
   ]
  },
  {
   "cell_type": "code",
   "execution_count": 2,
   "id": "c372501d",
   "metadata": {},
   "outputs": [],
   "source": [
    "###Import libraries\n",
    "import qiskit_metal as metal\n",
    "from qiskit_metal import designs, draw\n",
    "from qiskit_metal import MetalGUI, Dict, open_docs\n",
    "from qiskit_metal.qlibrary.qubits.transmon_pocket_6 import TransmonPocket6\n",
    "from qiskit_metal.qlibrary.qubits.transmon_cross_fl import TransmonCrossFL\n",
    "\n",
    "from qiskit_metal.qlibrary.couplers.tunable_coupler_01 import TunableCoupler01\n",
    "\n",
    "from qiskit_metal.qlibrary.tlines.meandered import RouteMeander\n",
    "from qiskit_metal.qlibrary.tlines.pathfinder import RoutePathfinder\n",
    "from qiskit_metal.qlibrary.tlines.anchored_path import RouteAnchors\n",
    "\n",
    "from qiskit_metal.qlibrary.lumped.cap_n_interdigital import CapNInterdigital\n",
    "from qiskit_metal.qlibrary.couplers.cap_n_interdigital_tee import CapNInterdigitalTee\n",
    "from qiskit_metal.qlibrary.couplers.coupled_line_tee import CoupledLineTee\n",
    "from qiskit_metal.qlibrary.qubits.transmon_pocket_cl import TransmonPocketCL\n",
    "from qiskit_metal.qlibrary.terminations.launchpad_wb import LaunchpadWirebond\n",
    "from qiskit_metal.qlibrary.terminations.launchpad_wb_coupled import LaunchpadWirebondCoupled"
   ]
  },
  {
   "cell_type": "code",
   "execution_count": 3,
   "id": "56670ce5",
   "metadata": {},
   "outputs": [],
   "source": [
    "###Design & GUI Features & Definition\n",
    "design = designs.DesignPlanar()\n",
    "design.overwrite_enabled = True\n",
    "TransmonPocketCL.get_template_options(design)\n",
    "###To check chip properties\n",
    "# design.chips.main\n",
    "# design.chips.main.material = ['silicon']\n",
    "# design.chips.main.material = ['germanium']\n",
    "# design.chips.main.size['size_x'] = '9mm'\n",
    "# design.chips.main.size['size_y'] = '6mm'\n",
    "# design.chips.main.size['center_x'] = '4.5mm'\n",
    "# design.chips.main.size['center_y'] = '2mm'\n",
    "###Fix Chip Size\n",
    "# design.chips.main.size.size_x = '11mm'\n",
    "# design.chips.main.size.size_y = '9mm'\n",
    "\n",
    "###GUI Loading\n",
    "gui = MetalGUI(design)"
   ]
  },
  {
   "cell_type": "code",
   "execution_count": 4,
   "id": "12a30ebf",
   "metadata": {},
   "outputs": [],
   "source": [
    "\n",
    "\n",
    "# #q1 = TransmonPocket(design, 'Q1', options=dict(connection_pads=dict(a=dict())))\n",
    "# q1 = TransmonPocket(design, 'Q1')\n",
    "# #gui.edit_component('Q1') # set Q1 as the editable component\n",
    "# #q1\n",
    "# #TransmonPocket.get_template_options(design)\n",
    "# q1.options.pos_x = '2 mm'\n",
    "# q1.options.pos_y = '2 mm'\n",
    "# q1.options.pad_height = '250 um'\n",
    "# q1.options.pad_width  = '300 um'\n",
    "# q1.options.pad_gap    = '50 um'\n",
    "# q1.options.inductor_width  = '45 um'\n",
    "# q1.options.connection_pads=dict(  # pin connectors\n",
    "#         a = dict(loc_W=+1,loc_H=+1), \n",
    "#         b = dict(loc_W=-1,loc_H=+1, pad_height='30um'),\n",
    "#         c = dict(loc_W=+1,loc_H=-1, pad_width='200um'),\n",
    "#         d = dict(loc_W=-1,loc_H=-1, pad_height='50um')\n",
    "#     )\n",
    "\n",
    "options1 = dict(\n",
    "    pad_width = '300 um',\n",
    "    pad_height = '250 um',\n",
    "    pad_gap = '50 um',\n",
    "    inductor_width = '45 um',\n",
    "    pocket_height = '750um',\n",
    "    connection_pads=dict(  # pin connectors\n",
    "        a = dict(loc_W=+1,loc_H=+1, pad_height='30um', pad_width='200um'), \n",
    "        b = dict(loc_W=-1,loc_H=-1, pad_height='30um', pad_width='125um'),\n",
    "        c = dict(loc_W=+1,loc_H=-1, pad_height='30um', pad_width='125um'),\n",
    "        #d = dict(loc_W=-1,loc_H=-1, pad_height='30um', pad_width='125um')\n",
    "    )\n",
    ")\n",
    "\n",
    "\n",
    "q1 = TransmonPocketCL(design, 'Q1', options = dict(pos_x='1.7mm', pos_y='0.0mm',gds_cell_name ='FakeJunction_01',orientation = '270', **options1))\n",
    "\n",
    "#q2 = design.copy_qcomponent(q1, 'Q2', dict(pos_x='-2.0mm',orientation = '270'))\n",
    "q2 = TransmonPocketCL(design, 'Q2', options = dict(pos_x='-1.7mm', pos_y='0.0mm',gds_cell_name ='FakeJunction_01',orientation = '90', **options1))\n",
    "\n",
    "options2 = dict(\n",
    "    pad_width = '500 um',\n",
    "    pad_height = '250 um',\n",
    "    pad_gap = '50 um',\n",
    "    inductor_width = '45 um',\n",
    "    pocket_height = '750um',\n",
    "    connection_pads=dict(  # pin connectors\n",
    "        a = dict(loc_W=-1,loc_H=+1, pad_height='30um', pad_width='200um'), \n",
    "        b = dict(loc_W=+1,loc_H=+1, pad_height='30um', pad_width='125um'),\n",
    "        c = dict(loc_W=+1,loc_H=-1, pad_height='30um', pad_width='125um'),\n",
    "        d = dict(loc_W=-1,loc_H=-1, pad_height='30um', pad_width='125um')\n",
    "    )\n",
    ")\n",
    "\n",
    "q3 = TransmonPocketCL(design, 'Q3', options = dict(pos_x='0.0mm', pos_y='1mm',gds_cell_name ='FakeJunction_01',orientation = '0', **options2))\n",
    "q4 = TransmonPocketCL(design, 'Q4',options = dict(pos_x='0.0mm', pos_y='-1mm',gds_cell_name ='FakeJunction_01',orientation = '180', **options2))\n",
    "\n",
    "\n",
    "#newcopies = design.copy_multiple_qcomponents([q1, q2], ['Q3', 'Q4'], [dict(pos_y='2.0mm',pos_x='0um',orientation = '0'), dict(pos_y='-2.0mm',pos_x='0 um',orientation = '0')])"
   ]
  },
  {
   "cell_type": "code",
   "execution_count": 5,
   "id": "9e49b556",
   "metadata": {},
   "outputs": [],
   "source": [
    "# from qiskit_metal.qlibrary.tlines.pathfinder import RoutePathfinder\n",
    "# import numpy as np\n",
    "# from collections import OrderedDict\n",
    "\n",
    "# # RoutePathfinder.get_template_options(design)\n",
    "# ops=dict(fillet='90um')\n",
    "# anchors = OrderedDict()\n",
    "# anchors[0] = np.array([0, 0])\n",
    "# # anchors[1] = np.array([-0.452, -1.5])\n",
    "# # anchors[2] = np.array([0.048, -1.5])\n",
    "\n",
    "# options = {'pin_inputs': \n",
    "#             {'start_pin': {'component': 'Q1', 'pin': 'b'}, \n",
    "#              'end_pin': {'component': 'Q2', 'pin': 'b'}},\n",
    "#             'lead': {'start_straight': '91um', 'end_straight': '90um'},\n",
    "#             'step_size': '0.25mm',\n",
    "#             'anchors': anchors,\n",
    "#             **ops\n",
    "#            }\n",
    "\n",
    "# qa = RoutePathfinder(design, 'line1', options)\n",
    "# #design.delete_component('line1')\n"
   ]
  },
  {
   "cell_type": "code",
   "execution_count": 6,
   "id": "ed9671c5",
   "metadata": {},
   "outputs": [],
   "source": [
    "from qiskit_metal.qlibrary.tlines.meandered import RouteMeander\n",
    "# RouteMeander.get_template_options(design)\n",
    "\n",
    "ops=dict(fillet='70um')\n",
    "\n",
    "options = Dict(\n",
    "    total_length= '0.6mm',\n",
    "    hfss_wire_bonds = True,\n",
    "    prevent_short_edges = True,\n",
    "    pin_inputs=Dict(start_pin=Dict(component= 'Q4',pin= 'b'),end_pin=Dict(component= 'Q2',pin= 'b')),\n",
    "    lead=Dict(start_straight='90um',end_straight='90um'),\n",
    "    meander=Dict(spacing='250um',asymmetry='-0.2mm'),\n",
    "    **ops\n",
    ")\n",
    "\n",
    "try:\n",
    "    cpw1.delete()\n",
    "except NameError: pass\n",
    "\n",
    "cpw1 = RouteMeander(design, options=options)\n",
    "\n",
    "\n",
    "options = Dict(\n",
    "    total_length= '0.6mm',\n",
    "    hfss_wire_bonds = True,\n",
    "    prevent_short_edges = True,\n",
    "    pin_inputs=Dict(start_pin=Dict(component= 'Q2',pin= 'c'),end_pin=Dict(component= 'Q3',pin= 'd')),\n",
    "    lead=Dict(start_straight='90um',end_straight='90um'),\n",
    "    meander=Dict(spacing='250um',asymmetry='0.5mm'),\n",
    "    **ops\n",
    ")\n",
    "\n",
    "try:\n",
    "    cpw2.delete()\n",
    "except NameError: pass\n",
    "\n",
    "cpw2 = RouteMeander(design, options=options)\n",
    "\n",
    "\n",
    "options = Dict(\n",
    "    total_length= '5mm',\n",
    "    hfss_wire_bonds = True,\n",
    "    prevent_short_edges = True,\n",
    "    pin_inputs=Dict(start_pin=Dict(component= 'Q4',pin= 'c'),end_pin=Dict(component= 'Q3',pin= 'c')),\n",
    "    lead=Dict(start_straight='90um',end_straight='90um'),\n",
    "    meander=Dict(spacing='200um',asymmetry='-0.5mm'),\n",
    "    **ops\n",
    ")\n",
    "\n",
    "try:\n",
    "    cpw3.delete()\n",
    "except NameError: pass\n",
    "\n",
    "cpw3 = RouteMeander(design, options=options)\n",
    "\n",
    "\n",
    "\n",
    "options = Dict(\n",
    "    total_length= '0.6mm',\n",
    "    hfss_wire_bonds = True,\n",
    "    prevent_short_edges = True,\n",
    "    pin_inputs=Dict(start_pin=Dict(component= 'Q3',pin= 'b'),end_pin=Dict(component= 'Q1',pin= 'b')),\n",
    "    lead=Dict(start_straight='90um',end_straight='90um'),\n",
    "    meander=Dict(spacing='250um',asymmetry='-0.2mm'),\n",
    "    **ops\n",
    ")\n",
    "\n",
    "try:\n",
    "    cpw4.delete()\n",
    "except NameError: pass\n",
    "\n",
    "cpw4 = RouteMeander(design, options=options)\n",
    "\n",
    "\n",
    "\n",
    "options = Dict(\n",
    "    total_length= '0.6mm',\n",
    "    hfss_wire_bonds = True,\n",
    "    prevent_short_edges = True,\n",
    "    pin_inputs=Dict(start_pin=Dict(component= 'Q1',pin= 'c'),end_pin=Dict(component= 'Q4',pin= 'd')),\n",
    "    lead=Dict(start_straight='90um',end_straight='90um'),\n",
    "    meander=Dict(spacing='250um',asymmetry='0.5mm'),\n",
    "    **ops\n",
    ")\n",
    "\n",
    "try:\n",
    "    cpw5.delete()\n",
    "except NameError: pass\n",
    "\n",
    "cpw5 = RouteMeander(design, options=options)\n",
    "\n",
    "\n",
    "\n"
   ]
  },
  {
   "cell_type": "code",
   "execution_count": 7,
   "id": "5208fb35",
   "metadata": {},
   "outputs": [],
   "source": [
    "from qiskit_metal.qlibrary.tlines.anchored_path import RouteAnchors\n",
    "from qiskit_metal.qlibrary.tlines.pathfinder import RoutePathfinder\n",
    "from qiskit_metal.qlibrary.terminations.open_to_ground import OpenToGround\n",
    "from qiskit_metal.qlibrary.terminations.launchpad_wb import LaunchpadWirebond\n",
    "from qiskit_metal.qlibrary.terminations.launchpad_wb_coupled import LaunchpadWirebondCoupled\n",
    "\n",
    "from qiskit_metal.qlibrary.tlines.pathfinder import RoutePathfinder\n",
    "import numpy as np\n",
    "from collections import OrderedDict\n",
    "\n",
    "\n",
    "#V1 - Corners\n",
    "p1_c = LaunchpadWirebond(design, 'P1_C', options = dict(pos_x='2500um', pos_y='2000um', orientation='270', lead_length='0um'))\n",
    "p2_c = LaunchpadWirebond(design, 'P2_C', options = dict(pos_x='-2500um', pos_y='-2000um', orientation='90', lead_length='0um'))\n",
    "p3_c = LaunchpadWirebond(design, 'P3_C', options = dict(pos_x='-2500um', pos_y='2000um', orientation='270', lead_length='0um'))\n",
    "p4_c = LaunchpadWirebond(design, 'P4_C', options = dict(pos_x='2500um', pos_y='-2000um', orientation='90', lead_length='0um'))\n",
    "\n",
    "# V2\n",
    "p1_q = LaunchpadWirebondCoupled(design, 'P1_Q', options = dict(pos_x='2600um', pos_y='-900um', orientation='180', lead_length='30um'))\n",
    "p2_q = LaunchpadWirebondCoupled(design, 'P2_Q', options = dict(pos_x='-2600um', pos_y='900um', orientation='0', lead_length='30um'))\n",
    "p3_q = LaunchpadWirebondCoupled(design, 'P3_Q', options = dict(pos_x='550um', pos_y='2000um', orientation='270', lead_length='30um'))\n",
    "p4_q = LaunchpadWirebondCoupled(design, 'P4_Q', options = dict(pos_x='-550um', pos_y='-2000um', orientation='90', lead_length='30um'))\n",
    "\n",
    "### V2 Connections ###\n",
    "options = Dict(\n",
    "    total_length= '1mm',\n",
    "    hfss_wire_bonds = True,\n",
    "    prevent_short_edges = True,\n",
    "    pin_inputs=Dict(start_pin=Dict(component= 'Q1',pin= 'a'),end_pin=Dict(component= 'P1_Q',pin= 'tie')),\n",
    "    lead=Dict(start_straight='90um',end_straight='90um'),\n",
    "    meander=Dict(spacing='200um',asymmetry='-0.2mm'),\n",
    "    **ops\n",
    ")\n",
    "\n",
    "try:\n",
    "    ol1.delete()\n",
    "except NameError: pass\n",
    "\n",
    "ol1 = RouteMeander(design, options=options)\n",
    "\n",
    "options = Dict(\n",
    "    total_length= '1mm',\n",
    "    hfss_wire_bonds = True,\n",
    "    prevent_short_edges = True,\n",
    "    pin_inputs=Dict(start_pin=Dict(component= 'Q2',pin= 'a'),end_pin=Dict(component= 'P2_Q',pin= 'tie')),\n",
    "    lead=Dict(start_straight='90um',end_straight='90um'),\n",
    "    meander=Dict(spacing='200um',asymmetry='-0.2mm'),\n",
    "    **ops\n",
    ")\n",
    "\n",
    "try:\n",
    "    ol2.delete()\n",
    "except NameError: pass\n",
    "\n",
    "ol2 = RouteMeander(design, options=options)\n",
    "\n",
    "options = Dict(\n",
    "    total_length= '3mm',\n",
    "    hfss_wire_bonds = True,\n",
    "    prevent_short_edges = True,\n",
    "    pin_inputs=Dict(start_pin=Dict(component= 'Q3',pin= 'a'),end_pin=Dict(component= 'P3_Q',pin= 'tie')),\n",
    "    lead=Dict(start_straight='90um',end_straight='90um'),\n",
    "    meander=Dict(spacing='250um',asymmetry='0.5mm'),\n",
    "    **ops\n",
    ")\n",
    "\n",
    "try:\n",
    "    ol3.delete()\n",
    "except NameError: pass\n",
    "\n",
    "ol3 = RouteMeander(design, options=options)\n",
    "\n",
    "options = Dict(\n",
    "    total_length= '3mm',\n",
    "    hfss_wire_bonds = True,\n",
    "    prevent_short_edges = True,\n",
    "    pin_inputs=Dict(start_pin=Dict(component= 'Q4',pin= 'a'),end_pin=Dict(component= 'P4_Q',pin= 'tie')),\n",
    "    lead=Dict(start_straight='90um',end_straight='90um'),\n",
    "    meander=Dict(spacing='250um',asymmetry='0.5mm'),\n",
    "    **ops\n",
    ")\n",
    "\n",
    "try:\n",
    "    ol4.delete()\n",
    "except NameError: pass\n",
    "\n",
    "ol4 = RouteMeander(design, options=options)\n",
    "\n",
    "# RoutePathfinder.get_template_options(design)\n",
    "ops=dict(fillet='70um')\n",
    "# anchors = OrderedDict()\n",
    "# anchors[0] = np.array([0, 0])\n",
    "# anchors[1] = np.array([-0.452, -1.5])\n",
    "# anchors[2] = np.array([0.048, -1.5])\n",
    "\n",
    "options = {'pin_inputs': \n",
    "            {'start_pin': {'component': 'Q1', 'pin': 'Charge_Line'}, \n",
    "             'end_pin': {'component': 'P1_C', 'pin': 'tie'}},\n",
    "            'lead': {'start_straight': '90um', 'end_straight': '90um'},\n",
    "            'step_size': '0.25mm',\n",
    "            #'anchors': anchors,\n",
    "            **ops\n",
    "           }\n",
    "\n",
    "line1 = RoutePathfinder(design, 'line1', options)\n",
    "#design.delete_component('line1')\n",
    "\n",
    "ops=dict(fillet='70um')\n",
    "# anchors = OrderedDict()\n",
    "# anchors[0] = np.array([0, 0])\n",
    "# anchors[1] = np.array([-0.452, -1.5])\n",
    "# anchors[2] = np.array([0.048, -1.5])\n",
    "\n",
    "options = {'pin_inputs': \n",
    "            {'start_pin': {'component': 'Q2', 'pin': 'Charge_Line'}, \n",
    "             'end_pin': {'component': 'P2_C', 'pin': 'tie'}},\n",
    "            'lead': {'start_straight': '90um', 'end_straight': '90um'},\n",
    "            'step_size': '0.25mm',\n",
    "            #'anchors': anchors,\n",
    "            **ops\n",
    "           }\n",
    "\n",
    "line2 = RoutePathfinder(design, 'line2', options)\n",
    "#design.delete_component('line2')\n",
    "\n",
    "ops=dict(fillet='70um')\n",
    "anchors = OrderedDict()\n",
    "anchors[0] = np.array([-0.9, 1.4])\n",
    "# anchors[1] = np.array([-0.452, -1.5])\n",
    "# anchors[2] = np.array([0.048, -1.5])\n",
    "\n",
    "options = {'pin_inputs': \n",
    "            {'start_pin': {'component': 'Q3', 'pin': 'Charge_Line'}, \n",
    "             'end_pin': {'component': 'P3_C', 'pin': 'tie'}},\n",
    "            'lead': {'start_straight': '90um', 'end_straight': '90um'},\n",
    "            'step_size': '0.25mm',\n",
    "            'anchors': anchors,\n",
    "            **ops\n",
    "           }\n",
    "\n",
    "line3 = RoutePathfinder(design, 'line3', options)\n",
    "#design.delete_component('line3')\n",
    "\n",
    "ops=dict(fillet='70um')\n",
    "anchors = OrderedDict()\n",
    "anchors[0] = np.array([0.9, -1.4])\n",
    "# anchors[1] = np.array([-0.452, -1.5])\n",
    "# anchors[2] = np.array([0.048, -1.5])\n",
    "\n",
    "options = {'pin_inputs': \n",
    "            {'start_pin': {'component': 'Q4', 'pin': 'Charge_Line'}, \n",
    "             'end_pin': {'component': 'P4_C', 'pin': 'tie'}},\n",
    "            'lead': {'start_straight': '90um', 'end_straight': '90um'},\n",
    "            'step_size': '0.25mm',\n",
    "            'anchors': anchors,\n",
    "            **ops\n",
    "           }\n",
    "\n",
    "line4 = RoutePathfinder(design, 'line4', options)\n",
    "#design.delete_component('line4')"
   ]
  },
  {
   "cell_type": "code",
   "execution_count": 8,
   "id": "d698af8d",
   "metadata": {},
   "outputs": [],
   "source": [
    "# design.delete_component('line1')\n",
    "# design.delete_component('line2')\n",
    "# design.delete_component('line3')\n",
    "# design.delete_component('line4')\n",
    "# ol1.delete()\n",
    "# ol2.delete()\n",
    "# gui.highlight_components('Q1')"
   ]
  },
  {
   "cell_type": "code",
   "execution_count": 9,
   "id": "802ed903",
   "metadata": {},
   "outputs": [],
   "source": [
    "gui.rebuild()  # rebuild the design and plot\n",
    "#gui.highlight_components(['Q1', 'Q2', 'Q3', 'Q4'])\n",
    "#gui.highlight_components(['Q1', 'Q2', 'Q3', 'Q4','P1_Q','P2_Q','P3_Q','P4_Q','P1_C','P2_C','P3_C','P4_C'])\n",
    "gui.autoscale() #resize GUI to see QComponent\n",
    "# gui.main_window.close()"
   ]
  },
  {
   "cell_type": "code",
   "execution_count": 10,
   "id": "887e7787",
   "metadata": {},
   "outputs": [],
   "source": [
    "# a_gds = design.renderers.gds\n",
    "# a_gds.options['path_filename'] = '../../resources/Fake_Junctions.GDS'\n",
    "# design.renderers.gds.export_to_gds(\"Before_size_change.gds\")\n",
    "# a_gds.options.no_cheese['view_in_file']['main']={1: False}\n",
    "# a_gds.options.cheese['view_in_file']['main']={1: False}"
   ]
  },
  {
   "cell_type": "code",
   "execution_count": 22,
   "id": "813affcb-799c-4557-a0b8-06d4b81bd834",
   "metadata": {},
   "outputs": [],
   "source": [
    "fourq_hfss = design.renderers.q3d"
   ]
  },
  {
   "cell_type": "code",
   "execution_count": 12,
   "id": "f363ed26-29c4-4349-bd1a-0acdc4531d74",
   "metadata": {},
   "outputs": [],
   "source": [
    "#q_main_q3d.connect_ansys()\n",
    "#q_main_q3d.activate_q3d_design(\"Q_Main\")\n",
    "#q_main_q3d.add_q3d_setup(name = 'Tune_Q_Main', max_passes = 21, min_converged_passes = 2, percent_error = 0.05)\n",
    "#q_main_q3d.activate_q3d_setup('Tune_Q_Main')\n",
    "#q_main.pins.keys()"
   ]
  },
  {
   "cell_type": "code",
   "execution_count": 13,
   "id": "031537cf-d3dd-45f3-b42e-00fe19aad143",
   "metadata": {},
   "outputs": [],
   "source": [
    "#q_main_q3d.activate_q3d_design(\"Q_Main\")\n",
    "#q_main_q3d.add_q3d_setup(name = 'Tune_Q_Main', max_passes = 21, min_converged_passes = 2, percent_error = 0.05)\n",
    "#q_main_q3d.activate_q3d_setup('Tune_Q_Main')"
   ]
  },
  {
   "cell_type": "code",
   "execution_count": 23,
   "id": "8e553c6f-93b3-49df-a759-c65203737798",
   "metadata": {},
   "outputs": [
    {
     "name": "stderr",
     "output_type": "stream",
     "text": [
      "INFO 11:32PM [connect_project]: Connecting to Ansys Desktop API...\n",
      "INFO 11:32PM [load_ansys_project]: \tOpened Ansys App\n",
      "INFO 11:32PM [load_ansys_project]: \tOpened Ansys Desktop v2021.1.0\n",
      "INFO 11:32PM [load_ansys_project]: \tOpened Ansys Project\n",
      "\tFolder:    C:/Users/visha/Documents/Ansoft/\n",
      "\tProject:   Project18\n",
      "INFO 11:32PM [connect_design]: No active design found (or error getting active design).\n",
      "INFO 11:32PM [connect]: \t Connected to project \"Project18\". No design detected\n"
     ]
    }
   ],
   "source": [
    "fourq_hfss.connect_ansys()\n"
   ]
  },
  {
   "cell_type": "code",
   "execution_count": 24,
   "id": "f8149eee-895c-466a-9b5f-266773bffc3a",
   "metadata": {},
   "outputs": [],
   "source": [
    "# Import the function \"kappa_in\" from the file kappa_calculation.py \n",
    "from qiskit_metal.analyses.em.kappa_calculation import kappa_in"
   ]
  },
  {
   "cell_type": "code",
   "execution_count": 25,
   "id": "f7512b75-0b8b-444a-859f-788b4ad11983",
   "metadata": {},
   "outputs": [
    {
     "name": "stdout",
     "output_type": "stream",
     "text": [
      "Output for N=1 Args: None\n",
      "Output for N=2 Args: None\n",
      "Output for N=3 Args: 1591.5494309189535\n",
      "Output for N=4 Args: None\n",
      "Output for N=5 Args: None\n",
      "Output for N=6 Args: 3234.721973158391\n",
      "Output for N=7 Args: None\n"
     ]
    }
   ],
   "source": [
    "# SANITY CHECK #1 \n",
    "# Let's check that output is only given for three and six arguments  \n",
    "print(\"Output for N=1 Args:\", kappa_in(1.0))\n",
    "print(\"Output for N=2 Args:\", kappa_in(1.0, 1.0))\n",
    "print(\"Output for N=3 Args:\", kappa_in(1.0, 1.0, 1.0))\n",
    "print(\"Output for N=4 Args:\", kappa_in(1.0, 1.0, 1.0, 1.0))\n",
    "print(\"Output for N=5 Args:\", kappa_in(1.0, 1.0, 1.0, 1.0, 1.0))\n",
    "print(\"Output for N=6 Args:\", kappa_in(1.0, 1.0, 1.0, 1.0, 1.0, 1.0))\n",
    "print(\"Output for N=7 Args:\", kappa_in(1.0, 1.0, 1.0, 1.0, 1.0, 1.0, 1.0))"
   ]
  },
  {
   "cell_type": "code",
   "execution_count": 26,
   "id": "83c47cba-3166-4e5d-9d51-d741f0c8382e",
   "metadata": {},
   "outputs": [
    {
     "name": "stdout",
     "output_type": "stream",
     "text": [
      "Calculated kappa (in Hz): 161144.37988054403 Hz\n",
      "Calculated kappa (in MHz): 0.16114437988054403 MHz\n"
     ]
    }
   ],
   "source": [
    "# SANITY CHECK #2\n",
    "# Let's check that the magnitude of the output is what we would expect for 3 arguments:\n",
    "# Input #1: omega = 5GHz = 5E9 Hertz \n",
    "# Input #2: C_in = 30fF = 30E-15 Farads \n",
    "# Input #3: omega_n = 4GHz = 4.5E9 Hertz \n",
    "print(\"Calculated kappa (in Hz):\", kappa_in(5.0E9, 30.0E-15, 4.5E9), \"Hz\")\n",
    "print(\"Calculated kappa (in MHz):\", kappa_in(5.0E9, 30.0E-15, 4.5E9)/1.0E6, \"MHz\")"
   ]
  },
  {
   "cell_type": "code",
   "execution_count": 74,
   "id": "2a03166a-d2e4-4dc6-a130-b4eab6557706",
   "metadata": {},
   "outputs": [],
   "source": [
    "#fourq_hfss.activate_drivenmodal_design(\"HFSSMetalDrivenModal\")"
   ]
  },
  {
   "cell_type": "code",
   "execution_count": 27,
   "id": "b3e3aa66-dcd2-4401-a4ca-d9013a38dfc9",
   "metadata": {},
   "outputs": [
    {
     "name": "stderr",
     "output_type": "stream",
     "text": [
      "11:32PM 23s WARNING [activate_q3d_design]: The name=Q_Main was not in active project.  A new design will be inserted to the project.  Names in active project are: \n",
      "[].  \n",
      "INFO 11:32PM [connect_design]: \tOpened active design\n",
      "\tDesign:    Q_Main [Solution type: Q3D]\n",
      "WARNING 11:32PM [connect_setup]: \tNo design setup detected.\n",
      "WARNING 11:32PM [connect_setup]: \tCreating Q3D default setup.\n",
      "INFO 11:32PM [get_setup]: \tOpened setup `Setup`  (<class 'pyEPR.ansys.AnsysQ3DSetup'>)\n",
      "INFO 11:32PM [get_setup]: \tOpened setup `Tune_Q_Main`  (<class 'pyEPR.ansys.AnsysQ3DSetup'>)\n"
     ]
    }
   ],
   "source": [
    "fourq_hfss.activate_q3d_design(\"Q_Main\")\n",
    "fourq_hfss.add_q3d_setup(name = 'Tune_Q_Main', max_passes = 21, min_converged_passes = 2, percent_error = 0.05)\n",
    "fourq_hfss.activate_q3d_setup('Tune_Q_Main')"
   ]
  },
  {
   "cell_type": "code",
   "execution_count": 28,
   "id": "8c2cb6a2-0780-44e8-82b3-b9884da9085b",
   "metadata": {},
   "outputs": [],
   "source": [
    "\n",
    "fourq_hfss.render_design([\"Q4\"])\n",
    "                                   #   ('Q_Main', 'bus_04'), ('Q_Main', 'bus_05')])"
   ]
  },
  {
   "cell_type": "code",
   "execution_count": 30,
   "id": "83245217-02ed-4015-b879-9d13e868b7e6",
   "metadata": {},
   "outputs": [
    {
     "name": "stderr",
     "output_type": "stream",
     "text": [
      "INFO 11:32PM [get_setup]: \tOpened setup `Tune_Q_Main`  (<class 'pyEPR.ansys.AnsysQ3DSetup'>)\n",
      "INFO 11:32PM [analyze]: Analyzing setup Tune_Q_Main\n"
     ]
    }
   ],
   "source": [
    "fourq_hfss.analyze_setup('Tune_Q_Main')"
   ]
  },
  {
   "cell_type": "code",
   "execution_count": 31,
   "id": "df65a1d4-b0a9-413b-bdcf-17eb49196036",
   "metadata": {},
   "outputs": [
    {
     "name": "stderr",
     "output_type": "stream",
     "text": [
      "INFO 11:39PM [get_matrix]: Exporting matrix data to (C:\\Users\\visha\\AppData\\Local\\Temp\\tmplizo6otp.txt, C, , Tune_Q_Main:LastAdaptive, \"Original\", \"ohm\", \"nH\", \"fF\", \"mSie\", 5000000000, Maxwell, 3, False\n"
     ]
    },
    {
     "data": {
      "text/html": [
       "<div>\n",
       "<style scoped>\n",
       "    .dataframe tbody tr th:only-of-type {\n",
       "        vertical-align: middle;\n",
       "    }\n",
       "\n",
       "    .dataframe tbody tr th {\n",
       "        vertical-align: top;\n",
       "    }\n",
       "\n",
       "    .dataframe thead th {\n",
       "        text-align: right;\n",
       "    }\n",
       "</style>\n",
       "<table border=\"1\" class=\"dataframe\">\n",
       "  <thead>\n",
       "    <tr style=\"text-align: right;\">\n",
       "      <th></th>\n",
       "      <th>a_connector_pad_Q4</th>\n",
       "      <th>cl_metal_Q4</th>\n",
       "      <th>pad_bot_Q4</th>\n",
       "      <th>pad_top_Q4</th>\n",
       "    </tr>\n",
       "  </thead>\n",
       "  <tbody>\n",
       "    <tr>\n",
       "      <th>a_connector_pad_Q4</th>\n",
       "      <td>307.25790</td>\n",
       "      <td>-15.88902</td>\n",
       "      <td>-114.83480</td>\n",
       "      <td>-118.71712</td>\n",
       "    </tr>\n",
       "    <tr>\n",
       "      <th>cl_metal_Q4</th>\n",
       "      <td>-15.88902</td>\n",
       "      <td>16.59105</td>\n",
       "      <td>-0.20911</td>\n",
       "      <td>-0.43304</td>\n",
       "    </tr>\n",
       "    <tr>\n",
       "      <th>pad_bot_Q4</th>\n",
       "      <td>-114.83480</td>\n",
       "      <td>-0.20911</td>\n",
       "      <td>160.43093</td>\n",
       "      <td>-39.90582</td>\n",
       "    </tr>\n",
       "    <tr>\n",
       "      <th>pad_top_Q4</th>\n",
       "      <td>-118.71712</td>\n",
       "      <td>-0.43304</td>\n",
       "      <td>-39.90582</td>\n",
       "      <td>164.42087</td>\n",
       "    </tr>\n",
       "  </tbody>\n",
       "</table>\n",
       "</div>"
      ],
      "text/plain": [
       "                    a_connector_pad_Q4  cl_metal_Q4  pad_bot_Q4  pad_top_Q4\n",
       "a_connector_pad_Q4           307.25790    -15.88902  -114.83480  -118.71712\n",
       "cl_metal_Q4                  -15.88902     16.59105    -0.20911    -0.43304\n",
       "pad_bot_Q4                  -114.83480     -0.20911   160.43093   -39.90582\n",
       "pad_top_Q4                  -118.71712     -0.43304   -39.90582   164.42087"
      ]
     },
     "execution_count": 31,
     "metadata": {},
     "output_type": "execute_result"
    }
   ],
   "source": [
    "fourq_hfss.get_capacitance_matrix()"
   ]
  },
  {
   "cell_type": "code",
   "execution_count": null,
   "id": "d1b41f1e-ce2e-4405-ab49-54f9b0601e96",
   "metadata": {},
   "outputs": [],
   "source": [
    "q_main_lom = fourq_hfss.lumped_oscillator_vs_passes(14, 21, 12,1,[5.6,5.7,5.8], 3)"
   ]
  },
  {
   "cell_type": "code",
   "execution_count": null,
   "id": "89a5d01f-9217-41b4-b392-6c3e2abb0031",
   "metadata": {},
   "outputs": [],
   "source": [
    "#fourq_hfss.plot_convergence_main(Q2);\n",
    "#fourq_hfss.plot_convergence_chi(Q2)"
   ]
  },
  {
   "cell_type": "code",
   "execution_count": 32,
   "id": "9eb64872-7738-423e-9f52-dd63dc39363a",
   "metadata": {},
   "outputs": [
    {
     "name": "stdout",
     "output_type": "stream",
     "text": [
      "Warning! 3 COM references still alive\n",
      "Ansys will likely refuse to shut down\n"
     ]
    }
   ],
   "source": [
    "fourq_hfss.disconnect_ansys()"
   ]
  },
  {
   "cell_type": "code",
   "execution_count": 33,
   "id": "eb953d40-6dfa-4692-a630-4b81b8eba450",
   "metadata": {},
   "outputs": [],
   "source": [
    "q_main_q5_eigen = design.renderers.hfss"
   ]
  },
  {
   "cell_type": "code",
   "execution_count": 34,
   "id": "8cfeda64-3726-4e3e-b7f8-54240ac7912f",
   "metadata": {},
   "outputs": [
    {
     "data": {
      "text/plain": [
       "{'Lj': '10nH',\n",
       " 'Cj': 0,\n",
       " '_Rj': 0,\n",
       " 'max_mesh_length_jj': '7um',\n",
       " 'project_path': None,\n",
       " 'project_name': None,\n",
       " 'design_name': None,\n",
       " 'ansys_file_extension': '.aedt',\n",
       " 'x_buffer_width_mm': 0.2,\n",
       " 'y_buffer_width_mm': 0.2,\n",
       " 'wb_threshold': '400um',\n",
       " 'wb_offset': '0um',\n",
       " 'wb_size': 4,\n",
       " 'plot_ansys_fields_options': {'name': 'NAME:Mag_E1',\n",
       "  'UserSpecifyName': '0',\n",
       "  'UserSpecifyFolder': '0',\n",
       "  'QuantityName': 'Mag_E',\n",
       "  'PlotFolder': 'E Field',\n",
       "  'StreamlinePlot': 'False',\n",
       "  'AdjacentSidePlot': 'False',\n",
       "  'FullModelPlot': 'False',\n",
       "  'IntrinsicVar': \"Phase='0deg'\",\n",
       "  'PlotGeomInfo_0': '1',\n",
       "  'PlotGeomInfo_1': 'Surface',\n",
       "  'PlotGeomInfo_2': 'FacesList',\n",
       "  'PlotGeomInfo_3': '1'}}"
      ]
     },
     "execution_count": 34,
     "metadata": {},
     "output_type": "execute_result"
    }
   ],
   "source": [
    "q_main_q5_eigen.options['wb_size'] = 4\n",
    "q_main_q5_eigen.options"
   ]
  },
  {
   "cell_type": "code",
   "execution_count": 35,
   "id": "c3badede-74c0-447c-9850-9242957efe5a",
   "metadata": {},
   "outputs": [
    {
     "name": "stderr",
     "output_type": "stream",
     "text": [
      "INFO 11:39PM [connect_project]: Connecting to Ansys Desktop API...\n",
      "INFO 11:39PM [load_ansys_project]: \tOpened Ansys App\n",
      "INFO 11:39PM [load_ansys_project]: \tOpened Ansys Desktop v2021.1.0\n",
      "INFO 11:39PM [load_ansys_project]: \tOpened Ansys Project\n",
      "\tFolder:    C:/Users/visha/Documents/Ansoft/\n",
      "\tProject:   Project18\n",
      "INFO 11:39PM [connect_design]: \tOpened active design\n",
      "\tDesign:    Q_Main [Solution type: Q3D]\n",
      "INFO 11:39PM [get_setup]: \tOpened setup `Setup`  (<class 'pyEPR.ansys.AnsysQ3DSetup'>)\n",
      "INFO 11:39PM [connect]: \tConnected to project \"Project18\" and design \"Q_Main\" 😀 \n",
      "\n"
     ]
    }
   ],
   "source": [
    "q_main_q5_eigen.connect_ansys()"
   ]
  },
  {
   "cell_type": "code",
   "execution_count": 36,
   "id": "8abccac8-56f1-4939-b68b-2fcc123b803c",
   "metadata": {},
   "outputs": [
    {
     "name": "stderr",
     "output_type": "stream",
     "text": [
      "INFO 11:40PM [connect_design]: \tOpened active design\n",
      "\tDesign:    QMain_Q5_Bus05 [Solution type: Eigenmode]\n",
      "WARNING 11:40PM [connect_setup]: \tNo design setup detected.\n",
      "WARNING 11:40PM [connect_setup]: \tCreating eigenmode default setup.\n",
      "INFO 11:40PM [get_setup]: \tOpened setup `Setup`  (<class 'pyEPR.ansys.HfssEMSetup'>)\n"
     ]
    },
    {
     "data": {
      "text/plain": [
       "<pyEPR.ansys.HfssDesign at 0x28ffe6d2ac0>"
      ]
     },
     "execution_count": 36,
     "metadata": {},
     "output_type": "execute_result"
    }
   ],
   "source": [
    "q_main_q5_eigen.add_eigenmode_design(\"QMain_Q5_Bus05\")"
   ]
  },
  {
   "cell_type": "code",
   "execution_count": 37,
   "id": "21e62d4e-4ec8-4388-8b33-daa25679826a",
   "metadata": {},
   "outputs": [
    {
     "name": "stderr",
     "output_type": "stream",
     "text": [
      "INFO 11:40PM [get_setup]: \tOpened setup `3Modes`  (<class 'pyEPR.ansys.HfssEMSetup'>)\n"
     ]
    }
   ],
   "source": [
    "q_main_q5_eigen.add_eigenmode_setup(name='3Modes', min_freq_ghz = 4, n_modes=3, max_delta_f = 0.1, max_passes = 10, min_converged = 2)\n",
    "q_main_q5_eigen.activate_eigenmode_setup('3Modes')"
   ]
  },
  {
   "cell_type": "code",
   "execution_count": 38,
   "id": "1c796390-57db-4158-ab9b-35f4ecf931bf",
   "metadata": {},
   "outputs": [
    {
     "name": "stderr",
     "output_type": "stream",
     "text": [
      "INFO 11:40PM [__del__]: Disconnected from Ansys HFSS\n"
     ]
    }
   ],
   "source": [
    "q_main_q5_eigen.options.hfss_inductance = '13nH'\n",
    "q_main_q5_eigen.options.hfss_inductance = '15nH'\n",
    "q_main_q5_eigen.options.total_length = '7.5mm'\n",
    "\n",
    "gui.rebuild()"
   ]
  },
  {
   "cell_type": "code",
   "execution_count": 39,
   "id": "cd8619ce-d195-46d5-841e-4ee3a7791d18",
   "metadata": {},
   "outputs": [],
   "source": [
    "q_main_q5_eigen.render_design([\"Q4\"])"
   ]
  },
  {
   "cell_type": "code",
   "execution_count": 40,
   "id": "50928bdb-ef9b-474c-ad8e-6c3a2d0e4d26",
   "metadata": {},
   "outputs": [
    {
     "data": {
      "text/plain": [
       "'Cj2'"
      ]
     },
     "execution_count": 40,
     "metadata": {},
     "output_type": "execute_result"
    }
   ],
   "source": [
    "e_design = q_main_q5_eigen.pinfo.design\n",
    "e_design.set_variable('Lj1', '13 nH')\n",
    "e_design.set_variable('Cj1', '0 fF')\n",
    "e_design.set_variable('Lj2', '15 nH')\n",
    "e_design.set_variable('Cj2', '0 fF')"
   ]
  },
  {
   "cell_type": "code",
   "execution_count": 41,
   "id": "9d76244f-7946-4b3e-be31-34388d6ce048",
   "metadata": {},
   "outputs": [
    {
     "name": "stderr",
     "output_type": "stream",
     "text": [
      "INFO 11:40PM [get_setup]: \tOpened setup `3Modes`  (<class 'pyEPR.ansys.HfssEMSetup'>)\n",
      "INFO 11:40PM [analyze]: Analyzing setup 3Modes\n"
     ]
    }
   ],
   "source": [
    "q_main_q5_eigen.analyze_setup('3Modes') #Note - simulation can take a while depending on your computer"
   ]
  },
  {
   "cell_type": "code",
   "execution_count": 42,
   "id": "52580a3c-f354-49d2-8934-2e6c5817dfb6",
   "metadata": {},
   "outputs": [
    {
     "name": "stderr",
     "output_type": "stream",
     "text": [
      "11:42PM 15s INFO [hfss_report_f_convergence]: Saved convergences to I:\\Homepc\\Quantum C Resources\\Quantum C Resources\\Qiskit_Metal\\qiskit-metal\\hfss_eig_f_convergence.csv\n",
      "WARNING:py.warnings:C:\\Users\\visha\\AppData\\Roaming\\Python\\Python38\\site-packages\\pandas\\plotting\\_matplotlib\\tools.py:400: MatplotlibDeprecationWarning: \n",
      "The is_first_col function was deprecated in Matplotlib 3.4 and will be removed two minor releases later. Use ax.get_subplotspec().is_first_col() instead.\n",
      "  if ax.is_first_col():\n",
      "\n",
      "WARNING:py.warnings:C:\\Users\\visha\\AppData\\Roaming\\Python\\Python38\\site-packages\\pandas\\plotting\\_matplotlib\\tools.py:400: MatplotlibDeprecationWarning: \n",
      "The is_first_col function was deprecated in Matplotlib 3.4 and will be removed two minor releases later. Use ax.get_subplotspec().is_first_col() instead.\n",
      "  if ax.is_first_col():\n",
      "\n",
      "WARNING:py.warnings:C:\\Users\\visha\\AppData\\Roaming\\Python\\Python38\\site-packages\\pandas\\plotting\\_matplotlib\\tools.py:400: MatplotlibDeprecationWarning: \n",
      "The is_first_col function was deprecated in Matplotlib 3.4 and will be removed two minor releases later. Use ax.get_subplotspec().is_first_col() instead.\n",
      "  if ax.is_first_col():\n",
      "\n",
      "WARNING:py.warnings:C:\\Users\\visha\\AppData\\Roaming\\Python\\Python38\\site-packages\\pandas\\plotting\\_matplotlib\\tools.py:400: MatplotlibDeprecationWarning: \n",
      "The is_first_col function was deprecated in Matplotlib 3.4 and will be removed two minor releases later. Use ax.get_subplotspec().is_first_col() instead.\n",
      "  if ax.is_first_col():\n",
      "\n"
     ]
    }
   ],
   "source": [
    "q_main_q5_eigen.plot_convergences()"
   ]
  },
  {
   "cell_type": "code",
   "execution_count": 43,
   "id": "156785b2-f375-4f00-aa60-fbf7754b5801",
   "metadata": {},
   "outputs": [],
   "source": [
    "import pyEPR as epr"
   ]
  },
  {
   "cell_type": "code",
   "execution_count": 45,
   "id": "9ca981bb-53f1-43bc-9cf5-e5c258e01526",
   "metadata": {},
   "outputs": [
    {
     "name": "stdout",
     "output_type": "stream",
     "text": [
      "Design \"QMain_Q5_Bus05\" info:\n",
      "\t# eigenmodes    3\n",
      "\t# variations    1\n"
     ]
    }
   ],
   "source": [
    "pinfo = q_main_q5_eigen.pinfo\n",
    "\n",
    "pinfo.junctions['jj1'] = {'Lj_variable': 'Lj1', 'rect': 'JJ_rect_Lj_Q4_rect_jj', \n",
    "                             'line': 'JJ_Lj_Q4_rect_jj_',  'Cj_variable': 'Cj1'}\n",
    "pinfo.junctions['jj2'] = {'Lj_variable': 'Lj2', 'rect': 'JJ_rect_Lj_Q4_rect_jj', \n",
    "                             'line': 'JJ_Lj_Q4_rect_jj_',  'Cj_variable': 'Cj2'}\n",
    "pinfo.validate_junction_info() # Checks that valid names of variables and objects have been supplied\n",
    "\n",
    "#Specifying the dissipative elements\n",
    "pinfo.dissipative['dielectrics_bulk']    = ['main']\n",
    "\n",
    "eprd = epr.DistributedAnalysis(q_main_q5_eigen.pinfo)"
   ]
  },
  {
   "cell_type": "code",
   "execution_count": 46,
   "id": "bafafbb3-278a-4f6a-acad-4132c0ddd766",
   "metadata": {},
   "outputs": [
    {
     "name": "stdout",
     "output_type": "stream",
     "text": [
      "\n",
      "ℰ_elec_all       = 9.2020856327524e-27\n",
      "ℰ_elec_substrate = 8.45109758231906e-27\n",
      "EPR of substrate = 91.8%\n",
      "\n",
      "ℰ_mag_all       = 1.72833435695276e-29\n",
      "ℰ_mag % of ℰ_elec_all  = 0.2%\n",
      "\n"
     ]
    }
   ],
   "source": [
    "eprd.set_mode(1)\n",
    "ℰ_elec = eprd.calc_energy_electric()\n",
    "ℰ_elec_substrate = eprd.calc_energy_electric(None, 'main')\n",
    "ℰ_mag = eprd.calc_energy_magnetic()\n",
    "\n",
    "print(f\"\"\"\n",
    "ℰ_elec_all       = {ℰ_elec}\n",
    "ℰ_elec_substrate = {ℰ_elec_substrate}\n",
    "EPR of substrate = {ℰ_elec_substrate / ℰ_elec * 100 :.1f}%\n",
    "\n",
    "ℰ_mag_all       = {ℰ_mag}\n",
    "ℰ_mag % of ℰ_elec_all  = {ℰ_mag / ℰ_elec * 100 :.1f}%\n",
    "\"\"\")"
   ]
  },
  {
   "cell_type": "code",
   "execution_count": 47,
   "id": "1b02f026-d430-481a-8892-11e1906f95f6",
   "metadata": {},
   "outputs": [
    {
     "name": "stdout",
     "output_type": "stream",
     "text": [
      "\n",
      "Variation 0  [1/1]\n",
      "\n",
      "  \u001b[1mMode 0 at 4.83 GHz   [1/3]\u001b[0m\n",
      "    Calculating ℰ_magnetic,ℰ_electric\n",
      "       (ℰ_E-ℰ_H)/ℰ_E       ℰ_E       ℰ_H\n",
      "               99.1%  2.641e-24 2.309e-26\n",
      "\n",
      "    Calculating junction energy participation ration (EPR)\n",
      "\tmethod=`line_voltage`. First estimates:\n",
      "\tjunction        EPR p_0j   sign s_0j    (p_capacitive)\n",
      "\t\tEnergy fraction (Lj over Lj&Cj)= 97.66%\n",
      "\tjj1             0.762051  (+)        0.0182444\n",
      "\t\tEnergy fraction (Lj over Lj&Cj)= 97.31%\n",
      "\tjj2             0.660444  (+)        0.0182444\n",
      "\t\t(U_tot_cap-U_tot_ind)/mean=-16.00%\n",
      "WARNING: This simulation must not have converged well!!!                The difference in the total cap and ind energies is larger than 10%.                Proceed with caution.\n",
      "Calculating Qdielectric_main for mode 0 (0/2)\n",
      "p_dielectric_main_0 = 0.9186147842129552\n",
      "\n",
      "  \u001b[1mMode 1 at 35.67 GHz   [2/3]\u001b[0m\n",
      "    Calculating ℰ_magnetic,ℰ_electric\n",
      "       (ℰ_E-ℰ_H)/ℰ_E       ℰ_E       ℰ_H\n",
      "               99.8%  4.601e-27 8.642e-30\n",
      "\n",
      "    Calculating junction energy participation ration (EPR)\n",
      "\tmethod=`line_voltage`. First estimates:\n",
      "\tjunction        EPR p_1j   sign s_1j    (p_capacitive)\n",
      "\t\tEnergy fraction (Lj over Lj&Cj)= 43.37%\n",
      "\tjj1             1.83772e-09  (+)        2.39968e-09\n",
      "\t\tEnergy fraction (Lj over Lj&Cj)= 39.89%\n",
      "\tjj2             1.59269e-09  (+)        2.39968e-09\n",
      "\t\t(U_tot_cap-U_tot_ind)/mean=99.63%\n",
      "WARNING: This simulation must not have converged well!!!                The difference in the total cap and ind energies is larger than 10%.                Proceed with caution.\n",
      "Calculating Qdielectric_main for mode 1 (1/2)\n",
      "p_dielectric_main_1 = 0.9183893651499616\n",
      "\n",
      "  \u001b[1mMode 2 at 41.04 GHz   [3/3]\u001b[0m\n",
      "    Calculating ℰ_magnetic,ℰ_electric\n",
      "       (ℰ_E-ℰ_H)/ℰ_E       ℰ_E       ℰ_H\n",
      "               99.8%  3.245e-27 5.784e-30\n",
      "\n",
      "    Calculating junction energy participation ration (EPR)\n",
      "\tmethod=`line_voltage`. First estimates:\n",
      "\tjunction        EPR p_2j   sign s_2j    (p_capacitive)\n",
      "\t\tEnergy fraction (Lj over Lj&Cj)= 36.64%\n",
      "\tjj1             9.05538e-11  (+)        1.56585e-10\n",
      "\t\tEnergy fraction (Lj over Lj&Cj)= 33.39%\n",
      "\tjj2             7.848e-11  (+)        1.56585e-10\n",
      "\t\t(U_tot_cap-U_tot_ind)/mean=99.64%\n",
      "WARNING: This simulation must not have converged well!!!                The difference in the total cap and ind energies is larger than 10%.                Proceed with caution.\n",
      "Calculating Qdielectric_main for mode 2 (2/2)\n",
      "p_dielectric_main_2 = 0.918565364704189\n"
     ]
    },
    {
     "name": "stderr",
     "output_type": "stream",
     "text": [
      "WARNING 11:43PM [__init__]: <p>Error: <class 'IndexError'></p>\n",
      "ERROR 11:43PM [_get_participation_normalized]: WARNING: U_tot_cap-U_tot_ind / mean = 199.3% is > 15%.                     \n",
      "Is the simulation converged? Proceed with caution\n"
     ]
    },
    {
     "name": "stdout",
     "output_type": "stream",
     "text": [
      "\n",
      "ANALYSIS DONE. Data saved to:\n",
      "\n",
      "C:\\data-pyEPR\\Project18\\QMain_Q5_Bus05\\2021-05-30 23-42-46.npz\n",
      "\n",
      "\n",
      "\t Differences in variations:\n",
      "\n",
      "\n",
      "\n",
      " . . . . . . . . . . . . . . . . . . . . . . . . . . . . . . . . . . . . . . . . \n",
      "Variation 0\n",
      "\n",
      "Starting the diagonalization\n",
      "Finished the diagonalization\n"
     ]
    },
    {
     "name": "stderr",
     "output_type": "stream",
     "text": [
      "ERROR 11:43PM [_get_participation_normalized]: WARNING: U_tot_cap-U_tot_ind / mean = 199.3% is > 15%.                     \n",
      "Is the simulation converged? Proceed with caution\n",
      "WARNING:py.warnings:C:\\Users\\visha\\AppData\\Roaming\\Python\\Python38\\site-packages\\pandas\\plotting\\_matplotlib\\tools.py:400: MatplotlibDeprecationWarning: \n",
      "The is_first_col function was deprecated in Matplotlib 3.4 and will be removed two minor releases later. Use ax.get_subplotspec().is_first_col() instead.\n",
      "  if ax.is_first_col():\n",
      "\n",
      "WARNING:py.warnings:C:\\Users\\visha\\AppData\\Roaming\\Python\\Python38\\site-packages\\pandas\\plotting\\_matplotlib\\tools.py:400: MatplotlibDeprecationWarning: \n",
      "The is_first_col function was deprecated in Matplotlib 3.4 and will be removed two minor releases later. Use ax.get_subplotspec().is_first_col() instead.\n",
      "  if ax.is_first_col():\n",
      "\n",
      "WARNING:py.warnings:C:\\Users\\visha\\AppData\\Roaming\\Python\\Python38\\site-packages\\pandas\\plotting\\_matplotlib\\tools.py:400: MatplotlibDeprecationWarning: \n",
      "The is_first_col function was deprecated in Matplotlib 3.4 and will be removed two minor releases later. Use ax.get_subplotspec().is_first_col() instead.\n",
      "  if ax.is_first_col():\n",
      "\n",
      "WARNING:py.warnings:C:\\Users\\visha\\AppData\\Roaming\\Python\\Python38\\site-packages\\pandas\\plotting\\_matplotlib\\tools.py:400: MatplotlibDeprecationWarning: \n",
      "The is_first_col function was deprecated in Matplotlib 3.4 and will be removed two minor releases later. Use ax.get_subplotspec().is_first_col() instead.\n",
      "  if ax.is_first_col():\n",
      "\n"
     ]
    },
    {
     "name": "stdout",
     "output_type": "stream",
     "text": [
      "Pm_norm=\n",
      "modes\n",
      "0    7.234781e-01\n",
      "1    2.904178e+08\n",
      "2    5.894925e+09\n",
      "dtype: float64\n",
      "\n",
      "Pm_norm idx =\n",
      "     jj1    jj2\n",
      "0   True   True\n",
      "1  False  False\n",
      "2  False  False\n",
      "*** P (participation matrix, not normlz.)\n",
      "            jj1           jj2\n",
      "0  7.352236e-01  6.371938e-01\n",
      "1  1.837717e-09  1.592688e-09\n",
      "2  9.055383e-11  7.847998e-11\n",
      "\n",
      "*** S (sign-bit matrix)\n",
      "   s_jj1  s_jj2\n",
      "0      1      1\n",
      "1      1      1\n",
      "2      1      1\n",
      "*** P (participation matrix, normalized.)\n",
      "      0.53     0.46\n",
      "   1.8e-09  1.6e-09\n",
      "   9.1e-11  7.8e-11\n",
      "\n",
      "*** Chi matrix O1 PT (MHz)\n",
      "    Diag is anharmonicity, off diag is full cross-Kerr.\n",
      "       122 6.25e-06 3.54e-07\n",
      "  6.25e-06 7.97e-14 9.04e-15\n",
      "  3.54e-07 9.04e-15 2.56e-16\n",
      "\n",
      "*** Chi matrix ND (MHz) \n",
      "       127 6.21e-06 3.53e-07\n",
      "  6.21e-06-8.54e-10  6.1e-11\n",
      "  3.53e-07  6.1e-11 7.32e-10\n",
      "\n",
      "*** Frequencies O1 PT (MHz)\n",
      "0     4707.076669\n",
      "1    35667.375419\n",
      "2    41044.563295\n",
      "dtype: float64\n",
      "\n",
      "*** Frequencies ND (MHz)\n",
      "0     4703.893640\n",
      "1    35667.375419\n",
      "2    41044.563295\n",
      "dtype: float64\n",
      "\n",
      "*** Q_coupling\n",
      "Empty DataFrame\n",
      "Columns: []\n",
      "Index: [0, 1, 2]\n"
     ]
    },
    {
     "name": "stderr",
     "output_type": "stream",
     "text": [
      "WARNING:py.warnings:C:\\Users\\visha\\AppData\\Roaming\\Python\\Python38\\site-packages\\pandas\\plotting\\_matplotlib\\tools.py:400: MatplotlibDeprecationWarning: \n",
      "The is_first_col function was deprecated in Matplotlib 3.4 and will be removed two minor releases later. Use ax.get_subplotspec().is_first_col() instead.\n",
      "  if ax.is_first_col():\n",
      "\n",
      "WARNING:py.warnings:C:\\Users\\visha\\AppData\\Roaming\\Python\\Python38\\site-packages\\pandas\\plotting\\_matplotlib\\tools.py:400: MatplotlibDeprecationWarning: \n",
      "The is_first_col function was deprecated in Matplotlib 3.4 and will be removed two minor releases later. Use ax.get_subplotspec().is_first_col() instead.\n",
      "  if ax.is_first_col():\n",
      "\n",
      "WARNING:py.warnings:C:\\Users\\visha\\AppData\\Roaming\\Python\\Python38\\site-packages\\pandas\\plotting\\_matplotlib\\tools.py:400: MatplotlibDeprecationWarning: \n",
      "The is_first_col function was deprecated in Matplotlib 3.4 and will be removed two minor releases later. Use ax.get_subplotspec().is_first_col() instead.\n",
      "  if ax.is_first_col():\n",
      "\n",
      "WARNING:py.warnings:C:\\Users\\visha\\AppData\\Roaming\\Python\\Python38\\site-packages\\pandas\\plotting\\_matplotlib\\tools.py:400: MatplotlibDeprecationWarning: \n",
      "The is_first_col function was deprecated in Matplotlib 3.4 and will be removed two minor releases later. Use ax.get_subplotspec().is_first_col() instead.\n",
      "  if ax.is_first_col():\n",
      "\n",
      "WARNING:py.warnings:C:\\Users\\visha\\AppData\\Roaming\\Python\\Python38\\site-packages\\pandas\\plotting\\_matplotlib\\tools.py:400: MatplotlibDeprecationWarning: \n",
      "The is_first_col function was deprecated in Matplotlib 3.4 and will be removed two minor releases later. Use ax.get_subplotspec().is_first_col() instead.\n",
      "  if ax.is_first_col():\n",
      "\n",
      "WARNING:py.warnings:C:\\Users\\visha\\AppData\\Roaming\\Python\\Python38\\site-packages\\pandas\\plotting\\_matplotlib\\tools.py:400: MatplotlibDeprecationWarning: \n",
      "The is_first_col function was deprecated in Matplotlib 3.4 and will be removed two minor releases later. Use ax.get_subplotspec().is_first_col() instead.\n",
      "  if ax.is_first_col():\n",
      "\n",
      "WARNING:py.warnings:C:\\Users\\visha\\AppData\\Roaming\\Python\\Python38\\site-packages\\pandas\\plotting\\_matplotlib\\tools.py:400: MatplotlibDeprecationWarning: \n",
      "The is_first_col function was deprecated in Matplotlib 3.4 and will be removed two minor releases later. Use ax.get_subplotspec().is_first_col() instead.\n",
      "  if ax.is_first_col():\n",
      "\n",
      "WARNING:py.warnings:C:\\Users\\visha\\AppData\\Roaming\\Python\\Python38\\site-packages\\pandas\\plotting\\_matplotlib\\tools.py:400: MatplotlibDeprecationWarning: \n",
      "The is_first_col function was deprecated in Matplotlib 3.4 and will be removed two minor releases later. Use ax.get_subplotspec().is_first_col() instead.\n",
      "  if ax.is_first_col():\n",
      "\n",
      "WARNING:py.warnings:C:\\Users\\visha\\AppData\\Roaming\\Python\\Python38\\site-packages\\pandas\\plotting\\_matplotlib\\tools.py:400: MatplotlibDeprecationWarning: \n",
      "The is_first_col function was deprecated in Matplotlib 3.4 and will be removed two minor releases later. Use ax.get_subplotspec().is_first_col() instead.\n",
      "  if ax.is_first_col():\n",
      "\n",
      "WARNING:py.warnings:C:\\Users\\visha\\AppData\\Roaming\\Python\\Python38\\site-packages\\pandas\\plotting\\_matplotlib\\tools.py:400: MatplotlibDeprecationWarning: \n",
      "The is_first_col function was deprecated in Matplotlib 3.4 and will be removed two minor releases later. Use ax.get_subplotspec().is_first_col() instead.\n",
      "  if ax.is_first_col():\n",
      "\n",
      "WARNING:py.warnings:C:\\Users\\visha\\AppData\\Roaming\\Python\\Python38\\site-packages\\pandas\\plotting\\_matplotlib\\tools.py:400: MatplotlibDeprecationWarning: \n",
      "The is_first_col function was deprecated in Matplotlib 3.4 and will be removed two minor releases later. Use ax.get_subplotspec().is_first_col() instead.\n",
      "  if ax.is_first_col():\n",
      "\n",
      "WARNING:py.warnings:C:\\Users\\visha\\AppData\\Roaming\\Python\\Python38\\site-packages\\pandas\\plotting\\_matplotlib\\tools.py:400: MatplotlibDeprecationWarning: \n",
      "The is_first_col function was deprecated in Matplotlib 3.4 and will be removed two minor releases later. Use ax.get_subplotspec().is_first_col() instead.\n",
      "  if ax.is_first_col():\n",
      "\n",
      "WARNING:py.warnings:C:\\Users\\visha\\AppData\\Roaming\\Python\\Python38\\site-packages\\pandas\\plotting\\_matplotlib\\tools.py:400: MatplotlibDeprecationWarning: \n",
      "The is_first_col function was deprecated in Matplotlib 3.4 and will be removed two minor releases later. Use ax.get_subplotspec().is_first_col() instead.\n",
      "  if ax.is_first_col():\n",
      "\n",
      "WARNING:py.warnings:C:\\Users\\visha\\AppData\\Roaming\\Python\\Python38\\site-packages\\pandas\\plotting\\_matplotlib\\tools.py:400: MatplotlibDeprecationWarning: \n",
      "The is_first_col function was deprecated in Matplotlib 3.4 and will be removed two minor releases later. Use ax.get_subplotspec().is_first_col() instead.\n",
      "  if ax.is_first_col():\n",
      "\n",
      "WARNING:py.warnings:C:\\Users\\visha\\AppData\\Roaming\\Python\\Python38\\site-packages\\pandas\\plotting\\_matplotlib\\tools.py:400: MatplotlibDeprecationWarning: \n",
      "The is_first_col function was deprecated in Matplotlib 3.4 and will be removed two minor releases later. Use ax.get_subplotspec().is_first_col() instead.\n",
      "  if ax.is_first_col():\n",
      "\n",
      "WARNING:py.warnings:C:\\Users\\visha\\AppData\\Roaming\\Python\\Python38\\site-packages\\pandas\\plotting\\_matplotlib\\tools.py:400: MatplotlibDeprecationWarning: \n",
      "The is_first_col function was deprecated in Matplotlib 3.4 and will be removed two minor releases later. Use ax.get_subplotspec().is_first_col() instead.\n",
      "  if ax.is_first_col():\n",
      "\n",
      "WARNING:py.warnings:C:\\Users\\visha\\AppData\\Roaming\\Python\\Python38\\site-packages\\pandas\\plotting\\_matplotlib\\tools.py:400: MatplotlibDeprecationWarning: \n",
      "The is_first_col function was deprecated in Matplotlib 3.4 and will be removed two minor releases later. Use ax.get_subplotspec().is_first_col() instead.\n",
      "  if ax.is_first_col():\n",
      "\n",
      "WARNING:py.warnings:C:\\Users\\visha\\AppData\\Roaming\\Python\\Python38\\site-packages\\pandas\\plotting\\_matplotlib\\tools.py:400: MatplotlibDeprecationWarning: \n",
      "The is_first_col function was deprecated in Matplotlib 3.4 and will be removed two minor releases later. Use ax.get_subplotspec().is_first_col() instead.\n",
      "  if ax.is_first_col():\n",
      "\n",
      "WARNING:py.warnings:C:\\Users\\visha\\AppData\\Roaming\\Python\\Python38\\site-packages\\pandas\\plotting\\_matplotlib\\tools.py:400: MatplotlibDeprecationWarning: \n",
      "The is_first_col function was deprecated in Matplotlib 3.4 and will be removed two minor releases later. Use ax.get_subplotspec().is_first_col() instead.\n",
      "  if ax.is_first_col():\n",
      "\n",
      "WARNING:py.warnings:C:\\Users\\visha\\AppData\\Roaming\\Python\\Python38\\site-packages\\pandas\\plotting\\_matplotlib\\tools.py:400: MatplotlibDeprecationWarning: \n",
      "The is_first_col function was deprecated in Matplotlib 3.4 and will be removed two minor releases later. Use ax.get_subplotspec().is_first_col() instead.\n",
      "  if ax.is_first_col():\n",
      "\n"
     ]
    },
    {
     "data": {
      "text/markdown": [
       "#### Mode frequencies (MHz)"
      ],
      "text/plain": [
       "<IPython.core.display.Markdown object>"
      ]
     },
     "metadata": {},
     "output_type": "display_data"
    },
    {
     "data": {
      "text/markdown": [
       "###### Numerical diagonalization"
      ],
      "text/plain": [
       "<IPython.core.display.Markdown object>"
      ]
     },
     "metadata": {},
     "output_type": "display_data"
    },
    {
     "data": {
      "text/html": [
       "<div>\n",
       "<style scoped>\n",
       "    .dataframe tbody tr th:only-of-type {\n",
       "        vertical-align: middle;\n",
       "    }\n",
       "\n",
       "    .dataframe tbody tr th {\n",
       "        vertical-align: top;\n",
       "    }\n",
       "\n",
       "    .dataframe thead th {\n",
       "        text-align: right;\n",
       "    }\n",
       "</style>\n",
       "<table border=\"1\" class=\"dataframe\">\n",
       "  <thead>\n",
       "    <tr style=\"text-align: right;\">\n",
       "      <th>Lj1</th>\n",
       "      <th>13</th>\n",
       "    </tr>\n",
       "    <tr>\n",
       "      <th>eigenmode</th>\n",
       "      <th></th>\n",
       "    </tr>\n",
       "  </thead>\n",
       "  <tbody>\n",
       "    <tr>\n",
       "      <th>0</th>\n",
       "      <td>4707.08</td>\n",
       "    </tr>\n",
       "    <tr>\n",
       "      <th>1</th>\n",
       "      <td>35667.38</td>\n",
       "    </tr>\n",
       "    <tr>\n",
       "      <th>2</th>\n",
       "      <td>41044.56</td>\n",
       "    </tr>\n",
       "  </tbody>\n",
       "</table>\n",
       "</div>"
      ],
      "text/plain": [
       "Lj1              13\n",
       "eigenmode          \n",
       "0           4707.08\n",
       "1          35667.38\n",
       "2          41044.56"
      ]
     },
     "metadata": {},
     "output_type": "display_data"
    },
    {
     "data": {
      "text/markdown": [
       "#### Kerr Non-linear coefficient table (MHz)"
      ],
      "text/plain": [
       "<IPython.core.display.Markdown object>"
      ]
     },
     "metadata": {},
     "output_type": "display_data"
    },
    {
     "data": {
      "text/markdown": [
       "###### Numerical diagonalization"
      ],
      "text/plain": [
       "<IPython.core.display.Markdown object>"
      ]
     },
     "metadata": {},
     "output_type": "display_data"
    },
    {
     "data": {
      "text/html": [
       "<div>\n",
       "<style scoped>\n",
       "    .dataframe tbody tr th:only-of-type {\n",
       "        vertical-align: middle;\n",
       "    }\n",
       "\n",
       "    .dataframe tbody tr th {\n",
       "        vertical-align: top;\n",
       "    }\n",
       "\n",
       "    .dataframe thead th {\n",
       "        text-align: right;\n",
       "    }\n",
       "</style>\n",
       "<table border=\"1\" class=\"dataframe\">\n",
       "  <thead>\n",
       "    <tr style=\"text-align: right;\">\n",
       "      <th></th>\n",
       "      <th></th>\n",
       "      <th>0</th>\n",
       "      <th>1</th>\n",
       "      <th>2</th>\n",
       "    </tr>\n",
       "    <tr>\n",
       "      <th>Lj1</th>\n",
       "      <th></th>\n",
       "      <th></th>\n",
       "      <th></th>\n",
       "      <th></th>\n",
       "    </tr>\n",
       "  </thead>\n",
       "  <tbody>\n",
       "    <tr>\n",
       "      <th rowspan=\"3\" valign=\"top\">13</th>\n",
       "      <th>0</th>\n",
       "      <td>1.27e+02</td>\n",
       "      <td>6.21e-06</td>\n",
       "      <td>3.53e-07</td>\n",
       "    </tr>\n",
       "    <tr>\n",
       "      <th>1</th>\n",
       "      <td>6.21e-06</td>\n",
       "      <td>-8.54e-10</td>\n",
       "      <td>6.10e-11</td>\n",
       "    </tr>\n",
       "    <tr>\n",
       "      <th>2</th>\n",
       "      <td>3.53e-07</td>\n",
       "      <td>6.10e-11</td>\n",
       "      <td>7.32e-10</td>\n",
       "    </tr>\n",
       "  </tbody>\n",
       "</table>\n",
       "</div>"
      ],
      "text/plain": [
       "              0         1         2\n",
       "Lj1                                \n",
       "13  0  1.27e+02  6.21e-06  3.53e-07\n",
       "    1  6.21e-06 -8.54e-10  6.10e-11\n",
       "    2  3.53e-07  6.10e-11  7.32e-10"
      ]
     },
     "metadata": {},
     "output_type": "display_data"
    }
   ],
   "source": [
    "eprd.do_EPR_analysis()\n",
    "\n",
    "epra = epr.QuantumAnalysis(eprd.data_filename)\n",
    "epra.analyze_all_variations(cos_trunc = 7, fock_trunc = 6)\n",
    "\n",
    "swp_variable = 'Lj1' # suppose we swept an optimetric analysis vs. inductance Lj\n",
    "epra.plot_hamiltonian_results(swp_variable=swp_variable)\n",
    "epra.report_results(swp_variable=swp_variable, numeric=True)"
   ]
  },
  {
   "cell_type": "code",
   "execution_count": 48,
   "id": "81e73bd9-5cea-4b92-9e9f-7a91b9656bd6",
   "metadata": {},
   "outputs": [],
   "source": [
    "q_main_q5_eigen.disconnect_ansys()"
   ]
  },
  {
   "cell_type": "code",
   "execution_count": 49,
   "id": "a2ec56b3-1ab7-432a-a664-6184c33889e5",
   "metadata": {},
   "outputs": [],
   "source": [
    "full_chip_gds = design.renderers.gds"
   ]
  },
  {
   "cell_type": "code",
   "execution_count": 50,
   "id": "ca6f9612-85b3-4ff9-8ad8-38fdf61248c5",
   "metadata": {},
   "outputs": [
    {
     "data": {
      "text/plain": [
       "{'short_segments_to_not_fillet': 'True',\n",
       " 'check_short_segments_by_scaling_fillet': '2.0',\n",
       " 'gds_unit': 0.001,\n",
       " 'ground_plane': 'True',\n",
       " 'negative_mask': {'main': []},\n",
       " 'corners': 'circular bend',\n",
       " 'tolerance': '0.00001',\n",
       " 'precision': '0.000000001',\n",
       " 'width_LineString': '10um',\n",
       " 'path_filename': '../resources/Fake_Junctions.GDS',\n",
       " 'junction_pad_overlap': '5um',\n",
       " 'max_points': '199',\n",
       " 'cheese': {'datatype': '100',\n",
       "  'shape': '0',\n",
       "  'cheese_0_x': '25um',\n",
       "  'cheese_0_y': '25um',\n",
       "  'cheese_1_radius': '100um',\n",
       "  'view_in_file': {'main': {1: True}},\n",
       "  'delta_x': '100um',\n",
       "  'delta_y': '100um',\n",
       "  'edge_nocheese': '200um'},\n",
       " 'no_cheese': {'datatype': '99',\n",
       "  'buffer': '25um',\n",
       "  'cap_style': '2',\n",
       "  'join_style': '2',\n",
       "  'view_in_file': {'main': {1: True}}},\n",
       " 'bounding_box_scale_x': '1.2',\n",
       " 'bounding_box_scale_y': '1.2'}"
      ]
     },
     "execution_count": 50,
     "metadata": {},
     "output_type": "execute_result"
    }
   ],
   "source": [
    "full_chip_gds.options"
   ]
  },
  {
   "cell_type": "code",
   "execution_count": 51,
   "id": "1fc2f81f-6290-461d-84ea-24c4e996b246",
   "metadata": {},
   "outputs": [],
   "source": [
    "full_chip_gds.options['path_filename'] ='../resources/Fake_Junctions.GDS'\n",
    "full_chip_gds.options['no_cheese']['buffer']='50um'"
   ]
  },
  {
   "cell_type": "code",
   "execution_count": 52,
   "id": "b1800bea-5a7f-487d-8fca-408de355e309",
   "metadata": {},
   "outputs": [
    {
     "name": "stderr",
     "output_type": "stream",
     "text": [
      "11:44PM 21s WARNING [_import_junctions_to_one_cell]: Not able to find file:\"../resources/Fake_Junctions.GDS\".  Not used to replace junction. Checked directory:\"I:\\Homepc\\Quantum C Resources\\Quantum C Resources\\Qiskit_Metal\\resources\".\n"
     ]
    },
    {
     "data": {
      "text/plain": [
       "1"
      ]
     },
     "execution_count": 52,
     "metadata": {},
     "output_type": "execute_result"
    }
   ],
   "source": [
    "full_chip_gds.export_to_gds('Qumunity.gds')"
   ]
  },
  {
   "cell_type": "code",
   "execution_count": 54,
   "id": "3fa43d3d-cb6b-4d04-8c5c-1ae923c3c855",
   "metadata": {},
   "outputs": [
    {
     "data": {
      "text/plain": [
       "True"
      ]
     },
     "execution_count": 54,
     "metadata": {},
     "output_type": "execute_result"
    }
   ],
   "source": [
    "gui.main_window.close()"
   ]
  },
  {
   "cell_type": "code",
   "execution_count": null,
   "id": "8828385d-cb45-4b81-a9c9-0f25a1c77586",
   "metadata": {},
   "outputs": [],
   "source": []
  }
 ],
 "metadata": {
  "kernelspec": {
   "display_name": "Python 3",
   "language": "python",
   "name": "python3"
  },
  "language_info": {
   "codemirror_mode": {
    "name": "ipython",
    "version": 3
   },
   "file_extension": ".py",
   "mimetype": "text/x-python",
   "name": "python",
   "nbconvert_exporter": "python",
   "pygments_lexer": "ipython3",
   "version": "3.8.10"
  }
 },
 "nbformat": 4,
 "nbformat_minor": 5
}
